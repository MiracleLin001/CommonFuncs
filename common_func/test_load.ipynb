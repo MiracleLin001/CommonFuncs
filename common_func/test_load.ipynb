{
 "cells": [
  {
   "cell_type": "code",
   "execution_count": 43,
   "metadata": {},
   "outputs": [
    {
     "name": "stdout",
     "output_type": "stream",
     "text": [
      "<class 'numpy.float64'>\n",
      "1e-10\n",
      "<class 'numpy.float64'>\n",
      "1e-10\n",
      "<class 'numpy.float64'>\n",
      "1e-10\n"
     ]
    },
    {
     "data": {
      "text/plain": [
       "{'CSV Loaded DataFrame': {'DataFrame':    1             2             3\n",
       "  X  1  1.000000e-10  1.000000e+10\n",
       "  Y  A  1.222400e+04  1.100000e+00\n",
       "  Z  S  1.000000e+00  2.000000e+00,\n",
       "  'Index': ['X', 'Y', 'Z'],\n",
       "  'Columns': ['1', '2', '3']},\n",
       " 'Excel Loaded DataFrame': {'DataFrame':    1             2             3\n",
       "  X  1  1.000000e-10  1.000000e+10\n",
       "  Y  A  1.222400e+04  1.100000e+00\n",
       "  Z  S  1.000000e+00  2.000000e+00,\n",
       "  'Index': ['X', 'Y', 'Z'],\n",
       "  'Columns': ['1', '2', '3']},\n",
       " 'Pickle Loaded DataFrame': {'DataFrame':    1             2             3\n",
       "  X  1  1.000000e-10  1.000000e+10\n",
       "  Y  A  1.222400e+04  1.100000e+00\n",
       "  Z  S  1.000000e+00  2.000000e+00,\n",
       "  'Index': ['X', 'Y', 'Z'],\n",
       "  'Columns': ['1', '2', '3']}}"
      ]
     },
     "execution_count": 43,
     "metadata": {},
     "output_type": "execute_result"
    }
   ],
   "source": [
    "import pandas as pd\n",
    "import os\n",
    "import numpy as np\n",
    "import common_functions as cf\n",
    "\n",
    "cf.mkdir('./test')\n",
    "\n",
    "# Creating a test DataFrame\n",
    "test_df = pd.DataFrame([['1', 1e-10, 1e10], ['A', 12224, 1.1], ['S', 1, 2]], columns=[1, 2, 3], index=['X', 'Y', 'Z'])\n",
    "\n",
    "\n",
    "# Save DataFrame to various formats for testing\n",
    "filename_base = './test/dataframe'  # Base filename without extension\n",
    "cf.save_df(test_df, filename_base, index=True, format_list=['csv', 'xlsx', 'pkl'])\n",
    "\n",
    "# Output paths for verification (no loading yet)\n",
    "saved_files = [f\"{filename_base}.{ext}\" for ext in ['csv', 'xlsx', 'pkl']]\n",
    "saved_files\n",
    "\n",
    "# Load and print the DataFrame from each saved file for verification\n",
    "loaded_csv = cf.load_df('./test/dataframe.csv')\n",
    "loaded_excel = cf.load_df('./test/dataframe.xlsx')\n",
    "loaded_pkl = cf.load_df('./test/dataframe.pkl')\n",
    "\n",
    "print(type(loaded_csv.loc['X', '2']))\n",
    "print(loaded_csv.loc['X', '2'])\n",
    "print(type(loaded_excel.loc['X', '2']))\n",
    "print(loaded_excel.loc['X', '2'])\n",
    "print(type(loaded_pkl.loc['X', '2']))\n",
    "print(loaded_pkl.loc['X', '2'])\n",
    "\n",
    "\n",
    "# Outputs for verification\n",
    "loaded_dfs = {\n",
    "    \"CSV Loaded DataFrame\": loaded_csv,\n",
    "    \"Excel Loaded DataFrame\": loaded_excel,\n",
    "    \"Pickle Loaded DataFrame\": loaded_pkl\n",
    "}\n",
    "\n",
    "loaded_dfs_info = {key: {\"DataFrame\": value, \"Index\": value.index.tolist(), \"Columns\": value.columns.tolist()} for key, value in loaded_dfs.items()}\n",
    "\n",
    "loaded_dfs_info"
   ]
  }
 ],
 "metadata": {
  "kernelspec": {
   "display_name": "bachelor",
   "language": "python",
   "name": "python3"
  },
  "language_info": {
   "codemirror_mode": {
    "name": "ipython",
    "version": 3
   },
   "file_extension": ".py",
   "mimetype": "text/x-python",
   "name": "python",
   "nbconvert_exporter": "python",
   "pygments_lexer": "ipython3",
   "version": "3.10.9"
  }
 },
 "nbformat": 4,
 "nbformat_minor": 2
}
