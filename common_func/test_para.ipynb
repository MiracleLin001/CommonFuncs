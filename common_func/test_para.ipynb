{
 "cells": [
  {
   "cell_type": "code",
   "execution_count": 9,
   "metadata": {},
   "outputs": [
    {
     "name": "stdout",
     "output_type": "stream",
     "text": [
      "True\n",
      "False\n"
     ]
    }
   ],
   "source": [
    "import common_functions as cf\n",
    "\n",
    "# 定义参数字典\n",
    "params = {\n",
    "    'learning_rate': 1/3,\n",
    "    'batch_size': 32,\n",
    "    'optimizer': 'adam',\n",
    "}\n",
    "\n",
    "\n",
    "params_B = {\n",
    "    'learning_rate': 0.02,\n",
    "    'batch_size': 32,\n",
    "    'optimizer:': 'adam'\n",
    "}\n",
    "\n",
    "cf.mkdir('./params')\n",
    "# 执行步骤\n",
    "file_name = './params/params'\n",
    "\n",
    "# 保存参数\n",
    "cf.save_params(params, file_name)\n",
    "\n",
    "# 读取参数\n",
    "params_loaded = cf.load_pickle(file_name + '.pkl')\n",
    "\n",
    "# 比较参数\n",
    "print(cf.compare_dict(params, params_loaded))\n",
    "print(cf.compare_dict(params, params_B))\n",
    "\n",
    "cf.rmdir('./params')"
   ]
  }
 ],
 "metadata": {
  "kernelspec": {
   "display_name": "Python 3",
   "language": "python",
   "name": "python3"
  },
  "language_info": {
   "codemirror_mode": {
    "name": "ipython",
    "version": 3
   },
   "file_extension": ".py",
   "mimetype": "text/x-python",
   "name": "python",
   "nbconvert_exporter": "python",
   "pygments_lexer": "ipython3",
   "version": "3.9.6"
  }
 },
 "nbformat": 4,
 "nbformat_minor": 2
}
