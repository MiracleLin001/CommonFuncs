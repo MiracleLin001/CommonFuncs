{
 "cells": [
  {
   "cell_type": "code",
   "execution_count": 1,
   "metadata": {},
   "outputs": [
    {
     "name": "stdout",
     "output_type": "stream",
     "text": [
      "{'a': 1, 'b': 2, 'c': 3, 'd': 4}\n",
      "{'a': 1, 'b': 2, 'c': 3, 'd': 4}\n",
      "None\n",
      "{'a': 1, 'b': 2, 'c': 3, 'd': 4, 'f': 20, 'g': 30}\n"
     ]
    }
   ],
   "source": [
    "import common_functions as cf\n",
    "\n",
    "original_dict = {'a': 1, 'b': 2, 'c': 3, 'd': 4}\n",
    "# new_dict = {'a': 10, 'f': 20, 'g': 30}\n",
    "new_dict = None\n",
    "print(cf.update_dict(original_dict, new_dict))\n",
    "print(original_dict)\n",
    "print(new_dict)\n",
    "\n",
    "new_dict = {'f': 20, 'g': 30}\n",
    "print(cf.union_dict(original_dict, new_dict))"
   ]
  },
  {
   "cell_type": "code",
   "execution_count": 3,
   "metadata": {},
   "outputs": [
    {
     "name": "stdout",
     "output_type": "stream",
     "text": [
      "{'cherry': 3, 'banana': 2, 'apple': 1, 'date': 4}\n"
     ]
    }
   ],
   "source": [
    "# Original dictionary\n",
    "d = {\n",
    "    'apple': 1,\n",
    "    'banana': 2,\n",
    "    'cherry': 3,\n",
    "    'date': 4\n",
    "}\n",
    "\n",
    "# Desired key order\n",
    "sort_by = ['cherry', 'banana', 'apple', 'date']\n",
    "\n",
    "# Call the function\n",
    "sorted_dict = cf.sort_dict_by_list(d, sort_by)\n",
    "\n",
    "print(sorted_dict)\n"
   ]
  }
 ],
 "metadata": {
  "kernelspec": {
   "display_name": "bp",
   "language": "python",
   "name": "python3"
  },
  "language_info": {
   "codemirror_mode": {
    "name": "ipython",
    "version": 3
   },
   "file_extension": ".py",
   "mimetype": "text/x-python",
   "name": "python",
   "nbconvert_exporter": "python",
   "pygments_lexer": "ipython3",
   "version": "3.10.13"
  }
 },
 "nbformat": 4,
 "nbformat_minor": 2
}
