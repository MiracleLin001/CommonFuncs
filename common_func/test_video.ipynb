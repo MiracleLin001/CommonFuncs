{
 "cells": [
  {
   "cell_type": "code",
   "execution_count": 4,
   "metadata": {},
   "outputs": [
    {
     "name": "stdout",
     "output_type": "stream",
     "text": [
      "['./image/1.png', './image/2.png', './image/3.png', './image/4.png', './image/5.png', './image/6.png']\n",
      "[<PIL.PngImagePlugin.PngImageFile image mode=RGBA size=2142x2142 at 0x7142562887F0>, <PIL.PngImagePlugin.PngImageFile image mode=RGBA size=2142x2142 at 0x714256288340>, <PIL.PngImagePlugin.PngImageFile image mode=RGBA size=2142x2142 at 0x7142562886A0>, <PIL.PngImagePlugin.PngImageFile image mode=RGBA size=2142x2142 at 0x714256288760>, <PIL.PngImagePlugin.PngImageFile image mode=RGBA size=2142x2142 at 0x714256288B80>, <PIL.PngImagePlugin.PngImageFile image mode=RGBA size=2142x2142 at 0x714256288DF0>]\n"
     ]
    }
   ],
   "source": [
    "import cv2\n",
    "from PIL import Image\n",
    "import os\n",
    "import common_functions as cf\n",
    "import numpy as np\n",
    "\n",
    "cf.mkdir('./video')\n",
    "\n",
    "for i in range(1, 7):\n",
    "    fig, ax = cf.create_fig_ax()\n",
    "    ax.text(0.5, 0.5, str(i), fontsize=20, ha='center', va='center')\n",
    "    ax.scatter(np.random.randn(1000), np.random.randn(1000))\n",
    "    cf.save_fig(fig, './image/' + str(i) + '.pdf')\n",
    "\n",
    "# Example usage\n",
    "image_paths = ['./image/1.png', './image/2.png', './image/3.png', './image/4.png', './image/5.png', './image/6.png']\n",
    "# image_paths = ['./image/1.pdf', './image/2.pdf', './image/3.pdf', './image/4.pdf', './image/5.pdf', './image/6.pdf']\n",
    "# image_paths = ['./image/1.eps', './image/2.eps']\n",
    "output_path_mp4 = './video/output_video'\n",
    "output_path_gif = './video/output_image'\n",
    "\n",
    "# You can now call the function for MP4 or GIF output as needed.\n",
    "cf.fig_to_video(image_paths, output_path_mp4, frame_rate=5)\n",
    "# cf.image_to_video(image_paths, output_path_mp4, frame_rate=5)"
   ]
  }
 ],
 "metadata": {
  "kernelspec": {
   "display_name": "Python 3",
   "language": "python",
   "name": "python3"
  },
  "language_info": {
   "codemirror_mode": {
    "name": "ipython",
    "version": 3
   },
   "file_extension": ".py",
   "mimetype": "text/x-python",
   "name": "python",
   "nbconvert_exporter": "python",
   "pygments_lexer": "ipython3",
   "version": "3.10.13"
  }
 },
 "nbformat": 4,
 "nbformat_minor": 2
}
