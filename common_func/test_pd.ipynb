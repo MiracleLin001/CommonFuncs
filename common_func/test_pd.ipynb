{
 "cells": [
  {
   "cell_type": "code",
   "execution_count": 1,
   "metadata": {},
   "outputs": [],
   "source": [
    "import common_functions as cf\n",
    "import numpy as np\n",
    "import matplotlib.pyplot as plt\n",
    "import pandas as pd"
   ]
  },
  {
   "cell_type": "code",
   "execution_count": 2,
   "metadata": {},
   "outputs": [
    {
     "name": "stdout",
     "output_type": "stream",
     "text": [
      "   A  B  C\n",
      "A  1  2  3\n",
      "B  4  5  6\n",
      "D  7  8  9\n",
      "Testing intersect sum:\n",
      "A    17.0\n",
      "B    25.0\n",
      "dtype: float64\n",
      "Testing union sum:\n",
      "C    18.0\n",
      "A    17.0\n",
      "D    24.0\n",
      "B    25.0\n",
      "dtype: float64\n"
     ]
    }
   ],
   "source": [
    "# Sample DataFrame creation\n",
    "data = np.array([[1, 2, 3], [4, 5, 6], [7, 8, 9]])\n",
    "columns = ['A', 'B', 'C']\n",
    "index = ['A', 'B', 'D']\n",
    "df = pd.DataFrame(data, columns=columns, index=index)\n",
    "print(df)\n",
    "\n",
    "# Testing the 'intersect' sum\n",
    "print(\"Testing intersect sum:\")\n",
    "print(cf.double_sum_df(df, sum_type='intersect'))\n",
    "\n",
    "# Testing the 'union' sum\n",
    "# Note: You'll need to adjust the logic for the 'union' case based on your requirements\n",
    "print(\"Testing union sum:\")\n",
    "print(cf.double_sum_df(df, sum_type='union'))\n"
   ]
  }
 ],
 "metadata": {
  "kernelspec": {
   "display_name": "bp",
   "language": "python",
   "name": "python3"
  },
  "language_info": {
   "codemirror_mode": {
    "name": "ipython",
    "version": 3
   },
   "file_extension": ".py",
   "mimetype": "text/x-python",
   "name": "python",
   "nbconvert_exporter": "python",
   "pygments_lexer": "ipython3",
   "version": "3.10.13"
  }
 },
 "nbformat": 4,
 "nbformat_minor": 2
}
