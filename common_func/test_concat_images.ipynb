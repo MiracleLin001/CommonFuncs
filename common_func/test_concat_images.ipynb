{
 "cells": [
  {
   "cell_type": "code",
   "execution_count": 1,
   "metadata": {},
   "outputs": [],
   "source": [
    "from PIL import Image\n",
    "import matplotlib.pyplot as plt\n",
    "import numpy as np\n",
    "import common_functions as cf\n",
    "\n",
    "x = np.arange(0, 10, 0.1)\n",
    "y = np.sin(x)\n",
    "for i in range(6):\n",
    "    fig, ax = plt.subplots()\n",
    "    ax.plot(x, y)\n",
    "    ax.set_xlim([0, i+1])\n",
    "    cf.save_fig('./image/'+str(i+1), ['pdf', 'eps'])\n",
    "    \n",
    "\n",
    "# 创建测试图片的路径列表，按照2行3列的结构\n",
    "image_paths_grid = [\n",
    "    ['./image/1.png', './image/2.png', './image/3.png'],\n",
    "    ['./image/4.png', './image/5.png', './image/6.png']\n",
    "]\n",
    "\n",
    "image_paths_grid = ['./image/1.pdf', './image/2.pdf']\n",
    "\n",
    "# image_paths_grid = ['./image/1.eps', './image/2.eps']\n",
    "\n",
    "# 拼接图片\n",
    "cf.concat_fig(image_paths_grid, save_path='./image/joined.png')\n"
   ]
  }
 ],
 "metadata": {
  "kernelspec": {
   "display_name": "Python 3",
   "language": "python",
   "name": "python3"
  },
  "language_info": {
   "codemirror_mode": {
    "name": "ipython",
    "version": 3
   },
   "file_extension": ".py",
   "mimetype": "text/x-python",
   "name": "python",
   "nbconvert_exporter": "python",
   "pygments_lexer": "ipython3",
   "version": "3.10.13"
  }
 },
 "nbformat": 4,
 "nbformat_minor": 2
}
