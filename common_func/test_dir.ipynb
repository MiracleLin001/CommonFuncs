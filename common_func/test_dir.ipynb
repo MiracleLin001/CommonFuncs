{
 "cells": [
  {
   "cell_type": "code",
   "execution_count": 2,
   "metadata": {},
   "outputs": [],
   "source": [
    "import common_functions as cf\n",
    "import numpy as np"
   ]
  },
  {
   "cell_type": "code",
   "execution_count": 2,
   "metadata": {},
   "outputs": [
    {
     "name": "stdout",
     "output_type": "stream",
     "text": [
      "Interval time: 0.000101 s\n",
      "0.00010128499707207084\n"
     ]
    }
   ],
   "source": [
    "start = cf.get_start_time()\n",
    "# cf.print_sep()\n",
    "# cf.print_title('aab')\n",
    "# cf.print_array(np.array([1,2,3,4,5,6,7,8,9,10]))\n",
    "# cf.get_time()\n",
    "interval = cf.get_interval_time(start)\n",
    "print(interval)"
   ]
  },
  {
   "cell_type": "code",
   "execution_count": 3,
   "metadata": {},
   "outputs": [
    {
     "name": "stdout",
     "output_type": "stream",
     "text": [
      "True\n",
      "False\n",
      "True\n",
      "{'a': 1, 'b': 2, 'c': 3}\n",
      "['./test_params/a_1']\n",
      "['./test_params/test1']\n"
     ]
    }
   ],
   "source": [
    "\n",
    "cf.rmdir('./test_params/')\n",
    "cf.mkdir('./test_params')\n",
    "dict1 = {'a': 1, 'b': 2, 'c': 3}\n",
    "cf.save_dict(dict1, './test_params/params1')\n",
    "cf.save_dir_dict(dict1, ['a'], basedir='./test_params/', dict_name='params2')\n",
    "cf.save_timed_dir_dict(dict1, ['a', 'b'], basedir='./test_params/', dict_name='params3')\n",
    "print(cf.param_exist(dict1, ['a'], basedir='./test_params/', pkl_name='params2'))\n",
    "print(cf.timed_param_exist(dict1, ['a'], basedir='./test_params/', pkl_name='params3'))\n",
    "print(cf.timed_param_exist(dict1, ['a', 'b'], basedir='./test_params/', pkl_name='params3'))\n",
    "print(dict1)\n",
    "\n",
    "print(cf.get_subdir('./test_params/'))\n",
    "cf.insert_dir('./test_params/', 'test1')\n",
    "print(cf.get_subdir('./test_params/'))"
   ]
  },
  {
   "cell_type": "code",
   "execution_count": 6,
   "metadata": {},
   "outputs": [],
   "source": [
    "cf.mkdir('./a/b')\n",
    "cf.mkdir('./e/g/')"
   ]
  },
  {
   "cell_type": "code",
   "execution_count": 7,
   "metadata": {},
   "outputs": [],
   "source": [
    "cf.cpdir('./a/', './e/g/')\n",
    "cf.cpdir('./a/', './as/')"
   ]
  },
  {
   "cell_type": "code",
   "execution_count": 9,
   "metadata": {},
   "outputs": [
    {
     "name": "stdout",
     "output_type": "stream",
     "text": [
      "The target folder './s/b' already exists. Operation aborted.\n"
     ]
    }
   ],
   "source": [
    "cf.mvdir('./a/b/', './s/')"
   ]
  },
  {
   "cell_type": "code",
   "execution_count": 10,
   "metadata": {},
   "outputs": [
    {
     "name": "stdout",
     "output_type": "stream",
     "text": [
      "The target folder './s/b' already exists. Operation aborted.\n"
     ]
    }
   ],
   "source": [
    "# 造出文件夹\n",
    "cf.mkdir('./s/b/')\n",
    "cf.mkdir('./a/b/')\n",
    "\n",
    "cf.mvdir('./a/b/', './s/')\n",
    "\n",
    "cf.mvdir('./a/b/', './s/', overwrite=True)"
   ]
  },
  {
   "cell_type": "code",
   "execution_count": 5,
   "metadata": {},
   "outputs": [],
   "source": [
    "cf.rmdir('./a')\n",
    "cf.rmdir('./e/')\n",
    "cf.rmdir('./as/')\n",
    "cf.rmdir('./s/')"
   ]
  },
  {
   "cell_type": "code",
   "execution_count": 1,
   "metadata": {},
   "outputs": [
    {
     "name": "stdout",
     "output_type": "stream",
     "text": [
      "{'a': 10, 'b': 2, 'c': 3}\n",
      "{'a': 15, 'b': 2, 'c': 3}\n",
      "{'a': 15, 'b': 2, 'c': 3}\n"
     ]
    }
   ],
   "source": [
    "import common_functions as cf\n",
    "import numpy as np\n",
    "\n",
    "cf.rmdir(\"./tmp\")\n",
    "\n",
    "# 创建目录\n",
    "cf.mkdir(\"./tmp/test_dir\")\n",
    "\n",
    "cf.save_dict({'a': 1, 'b': 2, 'c': 3}, \"./tmp/test_dir/params1.pkl\")\n",
    "\n",
    "# 删除目录\n",
    "# cf.rmdir(\"./tmp/test_dir\")\n",
    "\n",
    "# 复制目录\n",
    "cf.cpdir(\"./tmp/test_dir\", \"./tmp/dst_dir\", dirs_exist_ok=True, overwrite=True)\n",
    "\n",
    "cf.save_dict({'a': 10, 'b': 2, 'c': 3}, \"./tmp/test_dir/params1.pkl\")\n",
    "\n",
    "cf.cpdir(\"./tmp/test_dir\", \"./tmp/dst_dir\", dirs_exist_ok=True, overwrite=True)\n",
    "\n",
    "print(cf.load_pkl(\"./tmp/dst_dir/params1.pkl\"))\n",
    "\n",
    "cf.save_dict({'a': 15, 'b': 2, 'c': 3}, \"./tmp/test_dir/params1.pkl\")\n",
    "\n",
    "# 移动目录\n",
    "cf.mvdir_cp_like(\"./tmp/test_dir\", \"./tmp/dst_dir\", overwrite=True, dirs_exist_ok=True, rm_src=True)\n",
    "\n",
    "print(cf.load_pkl(\"./tmp/dst_dir/params1.pkl\"))\n",
    "\n",
    "\n",
    "cf.save_dict({'a': 20, 'b': 2, 'c': 3}, \"./tmp/test_dir/params1.pkl\")\n",
    "\n",
    "cf.mvdir(\"./tmp/test_dir\", \"./tmp/dst_dir\", overwrite=True)\n",
    "\n",
    "print(cf.load_pkl(\"./tmp/dst_dir/params1.pkl\"))\n",
    "\n",
    "cf.save_dict({'a': 20, 'b': 2, 'c': 3}, \"./tmp/test_dir/params1.pkl\")\n",
    "\n",
    "# # # 插入目录\n",
    "# cf.insert_dir(\"./tmp/test_dir\", \"new_sub_dir\")\n",
    "\n",
    "# # # 获取子目录\n",
    "# subdirs = cf.get_subdir(\"./tmp/test_dir\")\n",
    "# print(subdirs)"
   ]
  }
 ],
 "metadata": {
  "kernelspec": {
   "display_name": "Python 3",
   "language": "python",
   "name": "python3"
  },
  "language_info": {
   "codemirror_mode": {
    "name": "ipython",
    "version": 3
   },
   "file_extension": ".py",
   "mimetype": "text/x-python",
   "name": "python",
   "nbconvert_exporter": "python",
   "pygments_lexer": "ipython3",
   "version": "3.10.13"
  }
 },
 "nbformat": 4,
 "nbformat_minor": 2
}
